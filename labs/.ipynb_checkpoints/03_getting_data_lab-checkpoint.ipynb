{
 "cells": [
  {
   "cell_type": "code",
   "execution_count": 33,
   "metadata": {
    "collapsed": true
   },
   "outputs": [],
   "source": [
    "import requests\n",
    "from bs4 import BeautifulSoup\n",
    "import pandas as pd\n",
    "import matplotlib.pyplot as plt\n",
    "%matplotlib inline\n"
   ]
  },
  {
   "cell_type": "code",
   "execution_count": null,
   "metadata": {
    "collapsed": true
   },
   "outputs": [],
   "source": [
    "##### INDEED #####\n",
    "\n",
    "# a job posting website (as well as resume hosting)\n",
    "# scrape some (or A LOT) of job postings from indeed for the job \"data scientist\"\n",
    "# Plan of Action:\n",
    "# http://www.indeed.com/jobs?q=data+scientist&l=San+Francisco%2C+CA\n",
    "# 1. Figure out the url for getting the summaries (by doing it yourself!)\n",
    "# 2. Scrape the summary\n",
    "# 3. Figure out how to change the page by changing the URL (hint, click the next page button and see how the url changes)\n",
    "# 4. BONUS: count the most used words in the sumaries\n",
    "\n"
   ]
  },
  {
   "cell_type": "code",
   "execution_count": 59,
   "metadata": {
    "collapsed": false
   },
   "outputs": [
    {
     "data": {
      "text/plain": [
       "7/27/16    104\n",
       "7/4/16      70\n",
       "7/3/16      44\n",
       "1/1/16      39\n",
       "10/1/16     37\n",
       "8/11/16     36\n",
       "8/12/16     35\n",
       "9/24/16     32\n",
       "9/3/16      32\n",
       "5/29/16     29\n",
       "Name: Date, dtype: int64"
      ]
     },
     "execution_count": 59,
     "metadata": {},
     "output_type": "execute_result"
    }
   ],
   "source": [
    "#### UFO ######\n",
    "\n",
    "# SCRAPE ALL SIGHTINGS in 2016\n",
    "# Plan of action\n",
    "# 1. Figure out the pattern to get a certain year and month from nuforc\n",
    "# 2. Scrape each sightings\n",
    "# 3. Make a dataframe out of it\n",
    "# 4. make a day column\n",
    "# 5. graph each day in 2016 and see which day had the most! (Is it July 4th?)\n",
    "\n",
    "import requests\n",
    "from bs4 import BeautifulSoup\n",
    "import pandas as pd\n",
    "import matplotlib.pyplot as plt\n",
    "%matplotlib inline\n",
    "\n",
    "\n",
    "ufo_sightings = {\n",
    "        'Date_Time':[],\n",
    "        'City':[],\n",
    "        'State':[],\n",
    "        'Shape':[],\n",
    "        'Summary':[]\n",
    "    }\n",
    "for i in range(1,13):\n",
    "    month = '%02d' % i\n",
    "    #print month\n",
    "    r = requests.get(\"http://www.nuforc.org/webreports/ndxe2016\" + month +\".html\")\n",
    "    b = BeautifulSoup(r.text, 'html.parser')\n",
    "    tr = b.findAll('tr', attrs = {'valign':'TOP'})[:1]\n",
    "    for tr in b.findAll('tr', attrs = {'valign':'TOP'}):\n",
    "    # the findChildren method returns all children underneath it\n",
    "        ufo_sighting_info = []\n",
    "        for child in tr.findChildren():\n",
    "            ufo_sighting_info.append(child.text)\n",
    "        ufo_sightings['Date_Time'].append(ufo_sighting_info[0])\n",
    "        ufo_sightings['City'].append(ufo_sighting_info[3])\n",
    "        ufo_sightings['State'].append(ufo_sighting_info[5])\n",
    "        ufo_sightings['Shape'].append(ufo_sighting_info[7])\n",
    "        ufo_sightings['Summary'].append(ufo_sighting_info[12])\n",
    "\n",
    "ufo_sightings = pd.DataFrame(ufo_sightings)\n",
    "ufo_sightings['Date'] = ufo_sightings['Date_Time'].apply(lambda x:x[:-6])\n",
    "ufo_sightings.Date.value_counts().head(10)\n",
    "#ufo_sightings.Date.value_counts().plot(kind='bar', title =\"UFO Sightings\",figsize=(50,40),fontsize=12)\n",
    "#ufo_sightings.groupby(pd.Grouper(key='Date_Time',freq='1d')).count().day.plot()"
   ]
  },
  {
   "cell_type": "code",
   "execution_count": null,
   "metadata": {
    "collapsed": true
   },
   "outputs": [],
   "source": [
    "##### TWITTER ######\n",
    "\n",
    "# Create a dataframe where each row is a tweet that uses any tag (or tags) you choose!\n",
    "# include a column for date, text, user handle, user name, and user image\n",
    "# You can use the normal query method and not stream for this!"
   ]
  }
 ],
 "metadata": {
  "anaconda-cloud": {},
  "kernelspec": {
   "display_name": "Python 2",
   "language": "python",
   "name": "python2"
  },
  "language_info": {
   "codemirror_mode": {
    "name": "ipython",
    "version": 2
   },
   "file_extension": ".py",
   "mimetype": "text/x-python",
   "name": "python",
   "nbconvert_exporter": "python",
   "pygments_lexer": "ipython2",
   "version": "2.7.12"
  }
 },
 "nbformat": 4,
 "nbformat_minor": 0
}
