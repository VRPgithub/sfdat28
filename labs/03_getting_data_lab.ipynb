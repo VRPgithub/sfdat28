{
 "cells": [
  {
   "cell_type": "code",
   "execution_count": 39,
   "metadata": {
    "collapsed": true
   },
   "outputs": [],
   "source": [
    "import requests\n",
    "from bs4 import BeautifulSoup\n",
    "import pandas as pd\n",
    "import matplotlib.pyplot as plt\n",
    "import tweepy       # python wrapper for twitter api\n",
    "import json\n",
    "import time\n",
    "%matplotlib inline\n"
   ]
  },
  {
   "cell_type": "code",
   "execution_count": null,
   "metadata": {
    "collapsed": true
   },
   "outputs": [],
   "source": [
    "##### INDEED #####\n",
    "\n",
    "# a job posting website (as well as resume hosting)\n",
    "# scrape some (or A LOT) of job postings from indeed for the job \"data scientist\"\n",
    "# Plan of Action:\n",
    "# http://www.indeed.com/jobs?q=data+scientist&l=San+Francisco%2C+CA\n",
    "# 1. Figure out the url for getting the summaries (by doing it yourself!)\n",
    "# 2. Scrape the summary\n",
    "# 3. Figure out how to change the page by changing the URL (hint, click the next page button and see how the url changes)\n",
    "# 4. BONUS: count the most used words in the sumaries\n",
    "\n"
   ]
  },
  {
   "cell_type": "code",
   "execution_count": 59,
   "metadata": {
    "collapsed": false
   },
   "outputs": [
    {
     "data": {
      "text/plain": [
       "7/27/16    104\n",
       "7/4/16      70\n",
       "7/3/16      44\n",
       "1/1/16      39\n",
       "10/1/16     37\n",
       "8/11/16     36\n",
       "8/12/16     35\n",
       "9/24/16     32\n",
       "9/3/16      32\n",
       "5/29/16     29\n",
       "Name: Date, dtype: int64"
      ]
     },
     "execution_count": 59,
     "metadata": {},
     "output_type": "execute_result"
    }
   ],
   "source": [
    "#### UFO ######\n",
    "\n",
    "# SCRAPE ALL SIGHTINGS in 2016\n",
    "# Plan of action\n",
    "# 1. Figure out the pattern to get a certain year and month from nuforc\n",
    "# 2. Scrape each sightings\n",
    "# 3. Make a dataframe out of it\n",
    "# 4. make a day column\n",
    "# 5. graph each day in 2016 and see which day had the most! (Is it July 4th?)\n",
    "\n",
    "import requests\n",
    "from bs4 import BeautifulSoup\n",
    "import pandas as pd\n",
    "import matplotlib.pyplot as plt\n",
    "%matplotlib inline\n",
    "\n",
    "\n",
    "ufo_sightings = {\n",
    "        'Date_Time':[],\n",
    "        'City':[],\n",
    "        'State':[],\n",
    "        'Shape':[],\n",
    "        'Summary':[]\n",
    "    }\n",
    "for i in range(1,13):\n",
    "    month = '%02d' % i\n",
    "    #print month\n",
    "    r = requests.get(\"http://www.nuforc.org/webreports/ndxe2016\" + month +\".html\")\n",
    "    b = BeautifulSoup(r.text, 'html.parser')\n",
    "    tr = b.findAll('tr', attrs = {'valign':'TOP'})[:1]\n",
    "    for tr in b.findAll('tr', attrs = {'valign':'TOP'}):\n",
    "    # the findChildren method returns all children underneath it\n",
    "        ufo_sighting_info = []\n",
    "        for child in tr.findChildren():\n",
    "            ufo_sighting_info.append(child.text)\n",
    "        ufo_sightings['Date_Time'].append(ufo_sighting_info[0])\n",
    "        ufo_sightings['City'].append(ufo_sighting_info[3])\n",
    "        ufo_sightings['State'].append(ufo_sighting_info[5])\n",
    "        ufo_sightings['Shape'].append(ufo_sighting_info[7])\n",
    "        ufo_sightings['Summary'].append(ufo_sighting_info[12])\n",
    "\n",
    "ufo_sightings = pd.DataFrame(ufo_sightings)\n",
    "ufo_sightings['Date'] = ufo_sightings['Date_Time'].apply(lambda x:x[:-6])\n",
    "ufo_sightings.Date.value_counts().head(10)\n",
    "#ufo_sightings.Date.value_counts().plot(kind='bar', title =\"UFO Sightings\",figsize=(50,40),fontsize=12)"
   ]
  },
  {
   "cell_type": "code",
   "execution_count": 50,
   "metadata": {
    "collapsed": false
   },
   "outputs": [],
   "source": [
    "##### TWITTER ######\n",
    "\n",
    "# Create a dataframe where each row is a tweet that uses any tag (or tags) you choose!\n",
    "# include a column for date, text, user handle, user name, and user image\n",
    "# You can use the normal query method and not stream for this!\n",
    "\n",
    "api_key = 'g5uPIpw80nULQI1gfklv2zrh4'\n",
    "api_secret = 'cOWvNWxYvPmEZ0ArZVeeVVvJu41QYHdUS2GpqIKtSQ1isd5PJy'\n",
    "access_token = '49722956-TWl8J0aAS6KTdcbz3ppZ7NfqZEmrwmbsb9cYPNELG'\n",
    "access_secret = '3eqrVssF3ppv23qyflyAto8wLEiYRA8sXEPSghuOJWTub'\n",
    "# Masahpe Key\n",
    "mashape_key = '0CLvblsJOxmshWkaep4szo9CILOMp1PM3hhjsnDi4k8g8ME14o'\n",
    "\n",
    "tag = '#PayPal'\n",
    "pypl_tweets = {\n",
    "        'Date_Time':[],\n",
    "        'text':[],\n",
    "        'user_handle':[],\n",
    "        'user_id':[],\n",
    "        'user_name':[],\n",
    "        'user_image':[]\n",
    "    }\n",
    "# Documentation is your friend! http://docs.tweepy.org/en/v3.1.0/\n",
    "auth = tweepy.OAuthHandler(api_key, api_secret)\n",
    "auth.set_access_token(access_token, access_secret)\n",
    "api = tweepy.API(auth) # returns a tweepy authorization handler object\n",
    "tweets = api.search(q=tag)\n"
   ]
  },
  {
   "cell_type": "code",
   "execution_count": 51,
   "metadata": {
    "collapsed": false
   },
   "outputs": [],
   "source": [
    "\n",
    "for i in tweets:\n",
    "    pypl_tweets['Date_Time'].append(i.created_at)\n",
    "    pypl_tweets['text'].append(i.text)\n",
    "    pypl_tweets['user_handle'].append(i.author.screen_name)\n",
    "    pypl_tweets['user_id'].append(i.author.id )\n",
    "    pypl_tweets['user_name'].append(i.author.name )\n",
    "    pypl_tweets['user_image'].append(i.author.profile_image_url  )\n",
    "pypl_tweets = pd.DataFrame(pypl_tweets)\n",
    "\n",
    "\n"
   ]
  },
  {
   "cell_type": "code",
   "execution_count": 52,
   "metadata": {
    "collapsed": false
   },
   "outputs": [
    {
     "data": {
      "text/html": [
       "<div>\n",
       "<table border=\"1\" class=\"dataframe\">\n",
       "  <thead>\n",
       "    <tr style=\"text-align: right;\">\n",
       "      <th></th>\n",
       "      <th>Date_Time</th>\n",
       "      <th>text</th>\n",
       "      <th>user_handle</th>\n",
       "      <th>user_id</th>\n",
       "      <th>user_image</th>\n",
       "      <th>user_name</th>\n",
       "    </tr>\n",
       "  </thead>\n",
       "  <tbody>\n",
       "    <tr>\n",
       "      <th>0</th>\n",
       "      <td>2016-10-17 03:37:00</td>\n",
       "      <td>I just made it easier than ever to eBeg for su...</td>\n",
       "      <td>PDXVoiceTeacher</td>\n",
       "      <td>1250085356</td>\n",
       "      <td>http://pbs.twimg.com/profile_images/7244421254...</td>\n",
       "      <td>Thomas Prislac</td>\n",
       "    </tr>\n",
       "    <tr>\n",
       "      <th>1</th>\n",
       "      <td>2016-10-17 03:32:32</td>\n",
       "      <td>Proud to be Gay\\nPayPal Cofounder Thiel\\nDonat...</td>\n",
       "      <td>preston1_p</td>\n",
       "      <td>4865498327</td>\n",
       "      <td>http://pbs.twimg.com/profile_images/7087189848...</td>\n",
       "      <td>Ann Preston 🇺🇸</td>\n",
       "    </tr>\n",
       "    <tr>\n",
       "      <th>2</th>\n",
       "      <td>2016-10-17 03:31:35</td>\n",
       "      <td>Secure-eCommerce·com on sale @ https://t.co/QD...</td>\n",
       "      <td>padcom_dotcom</td>\n",
       "      <td>4113124006</td>\n",
       "      <td>http://pbs.twimg.com/profile_images/6619438936...</td>\n",
       "      <td>padCom</td>\n",
       "    </tr>\n",
       "    <tr>\n",
       "      <th>3</th>\n",
       "      <td>2016-10-17 03:31:20</td>\n",
       "      <td>Closed Buy 1.0 Lots for +25.1 pips, total for ...</td>\n",
       "      <td>RoyAllenFX</td>\n",
       "      <td>782846899476832256</td>\n",
       "      <td>http://pbs.twimg.com/profile_images/7831358717...</td>\n",
       "      <td>Roy C. Allen</td>\n",
       "    </tr>\n",
       "    <tr>\n",
       "      <th>4</th>\n",
       "      <td>2016-10-17 03:31:19</td>\n",
       "      <td>Closed Buy 1.0 Lots for +25.1 pips, total for ...</td>\n",
       "      <td>rogermcfx</td>\n",
       "      <td>782849425072791552</td>\n",
       "      <td>http://pbs.twimg.com/profile_images/7831298922...</td>\n",
       "      <td>Roger McGhee</td>\n",
       "    </tr>\n",
       "  </tbody>\n",
       "</table>\n",
       "</div>"
      ],
      "text/plain": [
       "            Date_Time                                               text  \\\n",
       "0 2016-10-17 03:37:00  I just made it easier than ever to eBeg for su...   \n",
       "1 2016-10-17 03:32:32  Proud to be Gay\\nPayPal Cofounder Thiel\\nDonat...   \n",
       "2 2016-10-17 03:31:35  Secure-eCommerce·com on sale @ https://t.co/QD...   \n",
       "3 2016-10-17 03:31:20  Closed Buy 1.0 Lots for +25.1 pips, total for ...   \n",
       "4 2016-10-17 03:31:19  Closed Buy 1.0 Lots for +25.1 pips, total for ...   \n",
       "\n",
       "       user_handle             user_id  \\\n",
       "0  PDXVoiceTeacher          1250085356   \n",
       "1       preston1_p          4865498327   \n",
       "2    padcom_dotcom          4113124006   \n",
       "3       RoyAllenFX  782846899476832256   \n",
       "4        rogermcfx  782849425072791552   \n",
       "\n",
       "                                          user_image         user_name  \n",
       "0  http://pbs.twimg.com/profile_images/7244421254...    Thomas Prislac  \n",
       "1  http://pbs.twimg.com/profile_images/7087189848...  Ann Preston 🇺🇸  \n",
       "2  http://pbs.twimg.com/profile_images/6619438936...            padCom  \n",
       "3  http://pbs.twimg.com/profile_images/7831358717...      Roy C. Allen  \n",
       "4  http://pbs.twimg.com/profile_images/7831298922...      Roger McGhee  "
      ]
     },
     "execution_count": 52,
     "metadata": {},
     "output_type": "execute_result"
    }
   ],
   "source": [
    "pypl_tweets.head()\n"
   ]
  },
  {
   "cell_type": "code",
   "execution_count": 53,
   "metadata": {
    "collapsed": false
   },
   "outputs": [
    {
     "data": {
      "text/plain": [
       "7"
      ]
     },
     "execution_count": 53,
     "metadata": {},
     "output_type": "execute_result"
    }
   ],
   "source": [
    "len(pypl_tweets)"
   ]
  },
  {
   "cell_type": "code",
   "execution_count": null,
   "metadata": {
    "collapsed": true
   },
   "outputs": [],
   "source": []
  }
 ],
 "metadata": {
  "anaconda-cloud": {},
  "kernelspec": {
   "display_name": "Python 2",
   "language": "python",
   "name": "python2"
  },
  "language_info": {
   "codemirror_mode": {
    "name": "ipython",
    "version": 2
   },
   "file_extension": ".py",
   "mimetype": "text/x-python",
   "name": "python",
   "nbconvert_exporter": "python",
   "pygments_lexer": "ipython2",
   "version": "2.7.12"
  }
 },
 "nbformat": 4,
 "nbformat_minor": 0
}
